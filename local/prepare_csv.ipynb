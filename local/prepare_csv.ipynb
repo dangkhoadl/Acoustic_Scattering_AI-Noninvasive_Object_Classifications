{
 "cells": [
  {
   "cell_type": "code",
   "execution_count": 1,
   "metadata": {},
   "outputs": [],
   "source": [
    "import pandas as pd\n",
    "import numpy as np\n",
    "\n",
    "import os\n",
    "from copy import deepcopy"
   ]
  },
  {
   "cell_type": "code",
   "execution_count": 2,
   "metadata": {},
   "outputs": [],
   "source": [
    "METADATA = '/home/dangkhoadl/DL-Audio/data/metadata.csv'\n",
    "WORKSPACE_DIR = '/home/dangkhoadl/DL-Audio'"
   ]
  },
  {
   "cell_type": "code",
   "execution_count": 3,
   "metadata": {},
   "outputs": [],
   "source": [
    "data_df = pd.read_csv(METADATA)\n",
    "data_df['wav_f_path'] = 'DATA/' + data_df['wav_f_path']"
   ]
  },
  {
   "cell_type": "markdown",
   "metadata": {},
   "source": [
    "# Exp 1"
   ]
  },
  {
   "cell_type": "code",
   "execution_count": 4,
   "metadata": {},
   "outputs": [],
   "source": [
    "# Prefilter\n",
    "df = deepcopy(data_df)\n",
    "df = df[df['Dummy Class'].isin([0,1,2,3])]\n",
    "df = df[df['Hair Condition'].isin([0])]\n",
    "df = df[df['Duration (s)'].isin([5])].reset_index(drop=True)\n",
    "df['label'] = df['Dummy Class']"
   ]
  },
  {
   "cell_type": "code",
   "execution_count": 5,
   "metadata": {},
   "outputs": [
    {
     "name": "stdout",
     "output_type": "stream",
     "text": [
      "Haircondition1-2-9_8_7_6_3\n",
      "\ttrain: 1574\n",
      "\ttest: 302\n",
      "Haircondition1-3-2_9_8_7_6\n",
      "\ttrain: 1518\n",
      "\ttest: 358\n",
      "Haircondition1-6-3_2_9_8_7\n",
      "\ttrain: 1581\n",
      "\ttest: 295\n",
      "Haircondition1-7-6_3_2_9_8\n",
      "\ttrain: 1545\n",
      "\ttest: 331\n",
      "Haircondition1-8-7_6_3_2_9\n",
      "\ttrain: 1561\n",
      "\ttest: 315\n",
      "Haircondition1-9-8_7_6_3_2\n",
      "\ttrain: 1601\n",
      "\ttest: 275\n"
     ]
    }
   ],
   "source": [
    "# Hair cond 1\n",
    "all_rounds = [2,3,6,7,8,9]\n",
    "N = len(all_rounds)\n",
    "\n",
    "for idx, test_round in enumerate(all_rounds):\n",
    "    train_round_s = [all_rounds[(idx+N-i)%N] for i in range(1,6) ]\n",
    "    round_id = 'Haircondition1-' + str(test_round) + '-' + \\\n",
    "        '_'.join( [f'{all_rounds[(idx+N-i)%N]}' for i in range(1,6)] )\n",
    "\n",
    "    df_train = df[df['Round Number'].isin(\n",
    "        train_round_s)].reset_index(drop=True)\n",
    "    df_test = df[df['Round Number'].isin(\n",
    "        [test_round])].reset_index(drop=True)\n",
    "\n",
    "    if not os.path.exists(f\"data/exp-1/{round_id}\"):\n",
    "        os.makedirs(f\"{WORKSPACE_DIR}/data/exp-1/{round_id}\")\n",
    "    df_train.to_csv(f\"{WORKSPACE_DIR}/data/exp-1/{round_id}/train.csv\", index=False)\n",
    "    df_test.to_csv(f\"{WORKSPACE_DIR}/data/exp-1/{round_id}/test.csv\", index=False)\n",
    "\n",
    "    print(f'{round_id}')\n",
    "    print(f'\\ttrain: {len(df_train)}')\n",
    "    print(f'\\ttest: {len(df_test)}')"
   ]
  },
  {
   "cell_type": "markdown",
   "metadata": {},
   "source": [
    "# Exp 2"
   ]
  },
  {
   "cell_type": "code",
   "execution_count": 6,
   "metadata": {},
   "outputs": [],
   "source": [
    "# Prefilter\n",
    "df = deepcopy(data_df)\n",
    "df = df[df['Dummy Class'].isin([0,1,2,3])]\n",
    "df = df[df['Hair Condition'].isin([0, 1])]\n",
    "df = df[df['Duration (s)'].isin([5])]\n",
    "df['label'] = df['Hair Condition']"
   ]
  },
  {
   "cell_type": "code",
   "execution_count": 7,
   "metadata": {},
   "outputs": [
    {
     "name": "stdout",
     "output_type": "stream",
     "text": [
      "testrounds-2-12\n",
      "\ttrain: 1683\n",
      "\ttest: 293\n",
      "\t[3, 6, 7, 8, 9, 13, 16, 17, 18, 19]\n",
      "testrounds-3-13\n",
      "\ttrain: 1648\n",
      "\ttest: 322\n",
      "\t[2, 6, 7, 8, 9, 12, 16, 17, 18, 19]\n",
      "testrounds-6-16\n",
      "\ttrain: 1632\n",
      "\ttest: 289\n",
      "\t[2, 3, 7, 8, 9, 12, 13, 17, 18, 19]\n",
      "testrounds-7-17\n",
      "\ttrain: 1666\n",
      "\ttest: 354\n",
      "\t[2, 3, 6, 8, 9, 12, 13, 16, 18, 19]\n",
      "testrounds-8-18\n",
      "\ttrain: 1627\n",
      "\ttest: 362\n",
      "\t[2, 3, 6, 7, 9, 12, 13, 16, 17, 19]\n",
      "testrounds-9-19\n",
      "\ttrain: 1634\n",
      "\ttest: 333\n",
      "\t[2, 3, 6, 7, 8, 12, 13, 16, 17, 18]\n"
     ]
    }
   ],
   "source": [
    "test_round_1 = [2,3,6,7,8,9]\n",
    "test_round_2 = [12,13,16,17,18,19]\n",
    "all_rounds = test_round_1 + test_round_2\n",
    "\n",
    "N = len(test_round_1)\n",
    "for idx, _ in enumerate(test_round_1):\n",
    "    round_id = 'testrounds-' + str(test_round_1[idx]) + '-' + str(test_round_2[idx])\n",
    "    df_test = df[df['Round Number']\\\n",
    "        .isin([test_round_1[idx], test_round_2[idx]])] \\\n",
    "        .reset_index(drop=True)\n",
    "    df_test = df_test[df_test['Dummy Class'].isin([2,3])].reset_index(drop=True)\n",
    "\n",
    "    df_train = df[df['Round Number'].isin(all_rounds)] \\\n",
    "        .reset_index(drop=True)\n",
    "    df_train = df_train[~df_train['Round Number']\\\n",
    "        .isin([test_round_1[idx], test_round_2[idx]])] \\\n",
    "        .reset_index(drop=True)\n",
    "    df_train = df_train[df_train['Dummy Class'].isin([0,1])].reset_index(drop=True)\n",
    "\n",
    "    if not os.path.exists(f\"data/exp-2/{round_id}\"):\n",
    "        os.makedirs(f\"{WORKSPACE_DIR}/data/exp-2/{round_id}\")\n",
    "    df_train.to_csv(f\"{WORKSPACE_DIR}/data/exp-2/{round_id}/train.csv\", index=False)\n",
    "    df_test.to_csv(f\"{WORKSPACE_DIR}/data/exp-2/{round_id}/test.csv\", index=False)\n",
    "\n",
    "    print(f'{round_id}')\n",
    "    print(f'\\ttrain: {len(df_train)}')\n",
    "    print(f'\\ttest: {len(df_test)}')\n",
    "    print(f\"\\t{sorted(df_train['Round Number'].unique())}\")"
   ]
  },
  {
   "cell_type": "code",
   "execution_count": 8,
   "metadata": {},
   "outputs": [
    {
     "data": {
      "text/plain": [
       "[22, 23, 24, 25, 26, 27, 28, 29, 30, 31]"
      ]
     },
     "execution_count": 8,
     "metadata": {},
     "output_type": "execute_result"
    }
   ],
   "source": [
    "sorted(data_df[data_df['Hair Condition'].isin([2])]['Round Number'].unique())"
   ]
  },
  {
   "cell_type": "markdown",
   "metadata": {},
   "source": [
    "# Exp 3"
   ]
  },
  {
   "cell_type": "code",
   "execution_count": 9,
   "metadata": {},
   "outputs": [],
   "source": [
    "# Prefilter\n",
    "df = deepcopy(data_df)\n",
    "df = df[df['Dummy Class'].isin([0,1,2,3])]\n",
    "df = df[df['Hair Condition'].isin([0, 1, 2])]\n",
    "df = df[df['Duration (s)'].isin([5])]\n",
    "df['label'] = df['Hair Condition']"
   ]
  },
  {
   "cell_type": "code",
   "execution_count": 10,
   "metadata": {},
   "outputs": [],
   "source": [
    "test_round_1 = [2, 3, 6, 7, 8, 9]\n",
    "test_round_2 = [12,13,16,17,18,19]\n",
    "test_round_3 = [22,23,26,27,28,29]\n",
    "all_rounds = test_round_1 + test_round_2 + test_round_3"
   ]
  },
  {
   "cell_type": "code",
   "execution_count": 11,
   "metadata": {},
   "outputs": [
    {
     "name": "stdout",
     "output_type": "stream",
     "text": [
      "testrounds-2-12-22\n",
      "\ttrain: 2851\n",
      "\ttest: 510\n",
      "\t[3, 6, 7, 8, 9, 13, 16, 17, 18, 19, 23, 26, 27, 28, 29]\n",
      "testrounds-3-13-23\n",
      "\ttrain: 2837\n",
      "\ttest: 532\n",
      "\t[2, 6, 7, 8, 9, 12, 16, 17, 18, 19, 22, 26, 27, 28, 29]\n",
      "testrounds-6-16-26\n",
      "\ttrain: 2788\n",
      "\ttest: 543\n",
      "\t[2, 3, 7, 8, 9, 12, 13, 17, 18, 19, 22, 23, 27, 28, 29]\n",
      "testrounds-7-17-27\n",
      "\ttrain: 2811\n",
      "\ttest: 621\n",
      "\t[2, 3, 6, 8, 9, 12, 13, 16, 18, 19, 22, 23, 26, 28, 29]\n",
      "testrounds-8-18-28\n",
      "\ttrain: 2812\n",
      "\ttest: 587\n",
      "\t[2, 3, 6, 7, 9, 12, 13, 16, 17, 19, 22, 23, 26, 27, 29]\n",
      "testrounds-9-19-29\n",
      "\ttrain: 2806\n",
      "\ttest: 593\n",
      "\t[2, 3, 6, 7, 8, 12, 13, 16, 17, 18, 22, 23, 26, 27, 28]\n"
     ]
    }
   ],
   "source": [
    "N = len(test_round_1)\n",
    "for idx, _ in enumerate(test_round_1):\n",
    "    round_id = 'testrounds-' + str(test_round_1[idx]) + '-' + str(test_round_2[idx]) + '-' + str(test_round_3[idx])\n",
    "    df_test = df[df['Round Number']\\\n",
    "        .isin([test_round_1[idx], test_round_2[idx], test_round_3[idx]])] \\\n",
    "        .reset_index(drop=True)\n",
    "    df_test = df_test[df_test['Dummy Class'].isin([2,3])].reset_index(drop=True)\n",
    "\n",
    "    df_train = df[df['Round Number'].isin(all_rounds)] \\\n",
    "        .reset_index(drop=True)\n",
    "    df_train = df_train[~df_train['Round Number']\\\n",
    "        .isin([test_round_1[idx], test_round_2[idx], test_round_3[idx]])] \\\n",
    "        .reset_index(drop=True)\n",
    "    df_train = df_train[df_train['Dummy Class'].isin([0,1])].reset_index(drop=True)\n",
    "\n",
    "    if not os.path.exists(f\"data/exp-3/{round_id}\"):\n",
    "        os.makedirs(f\"{WORKSPACE_DIR}/data/exp-3/{round_id}\")\n",
    "    df_train.to_csv(f\"{WORKSPACE_DIR}/data/exp-3/{round_id}/train.csv\", index=False)\n",
    "    df_test.to_csv(f\"{WORKSPACE_DIR}/data/exp-3/{round_id}/test.csv\", index=False)\n",
    "\n",
    "    print(f'{round_id}')\n",
    "    print(f'\\ttrain: {len(df_train)}')\n",
    "    print(f'\\ttest: {len(df_test)}')\n",
    "    print(f\"\\t{sorted(df_train['Round Number'].unique())}\")"
   ]
  }
 ],
 "metadata": {
  "kernelspec": {
   "display_name": "base",
   "language": "python",
   "name": "python3"
  },
  "language_info": {
   "codemirror_mode": {
    "name": "ipython",
    "version": 3
   },
   "file_extension": ".py",
   "mimetype": "text/x-python",
   "name": "python",
   "nbconvert_exporter": "python",
   "pygments_lexer": "ipython3",
   "version": "3.8.17"
  },
  "orig_nbformat": 4
 },
 "nbformat": 4,
 "nbformat_minor": 2
}
